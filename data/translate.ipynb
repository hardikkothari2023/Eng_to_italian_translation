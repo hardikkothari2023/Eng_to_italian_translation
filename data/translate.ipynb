{
 "cells": [
  {
   "cell_type": "code",
   "execution_count": 1,
   "metadata": {},
   "outputs": [
    {
     "name": "stdout",
     "output_type": "stream",
     "text": [
      "Skipping malformed line: ['11754215', 'I\\'m sorry,” was the first thing out of my mouth.\\t11754219\\tMi dispiace\", fu la prima cosa che mi uscì di bocca.']\n",
      "TSV file 'Sentence pairs in English-Italian - 2025-03-12.tsv' successfully converted to TXT file 'ita.txt'.\n"
     ]
    }
   ],
   "source": [
    "import csv\n",
    "\n",
    "# Define file names\n",
    "tsv_file = \"Sentence pairs in English-Italian - 2025-03-12.tsv\"  \n",
    "txt_file = \"ita.txt\"  \n",
    "\n",
    "with open(tsv_file, \"r\", encoding=\"utf-8\") as infile, open(txt_file, \"w\", encoding=\"utf-8\") as outfile:\n",
    "    tsv_reader = csv.reader(infile, delimiter='\\t')  \n",
    "    \n",
    "    for row in tsv_reader:\n",
    "        if len(row) < 4:  \n",
    "            print(f\"Skipping malformed line: {row}\")\n",
    "            continue  \n",
    "        \n",
    "        \n",
    "        english_text = row[1]\n",
    "        translated_text = row[3]\n",
    "        \n",
    "        \n",
    "        outfile.write(f\"{english_text}\\t{translated_text}\\n\")\n",
    "\n",
    "print(f\"TSV file '{tsv_file}' successfully converted to TXT file '{txt_file}'.\")\n"
   ]
  },
  {
   "cell_type": "code",
   "execution_count": null,
   "metadata": {},
   "outputs": [],
   "source": []
  }
 ],
 "metadata": {
  "kernelspec": {
   "display_name": ".venv",
   "language": "python",
   "name": "python3"
  },
  "language_info": {
   "codemirror_mode": {
    "name": "ipython",
    "version": 3
   },
   "file_extension": ".py",
   "mimetype": "text/x-python",
   "name": "python",
   "nbconvert_exporter": "python",
   "pygments_lexer": "ipython3",
   "version": "3.10.12"
  }
 },
 "nbformat": 4,
 "nbformat_minor": 2
}
