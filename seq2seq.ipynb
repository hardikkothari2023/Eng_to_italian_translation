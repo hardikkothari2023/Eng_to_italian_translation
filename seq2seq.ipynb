{
 "cells": [
  {
   "cell_type": "markdown",
   "metadata": {},
   "source": [
    "### Seq2Seq Recurrent Translation\n"
   ]
  },
  {
   "cell_type": "code",
   "execution_count": 2,
   "metadata": {},
   "outputs": [],
   "source": [
    "import os\n",
    "import time\n",
    "import re\n",
    "import unicodedata\n",
    "import pandas as pd\n",
    "import numpy as np\n",
    "import matplotlib.pyplot as plt\n",
    "import tensorflow as tf\n",
    "from tensorflow.keras import backend as K\n",
    "from tensorflow.keras.preprocessing.text import Tokenizer\n",
    "from tensorflow.keras.preprocessing.sequence import pad_sequences"
   ]
  },
  {
   "cell_type": "code",
   "execution_count": 3,
   "metadata": {
    "pycharm": {
     "name": "#%%\n"
    }
   },
   "outputs": [],
   "source": [
    "# Global parameters\n",
    "\n",
    "root_folder='.'\n",
    "data_folder_name='data'\n",
    "train_filename='ita.txt'\n",
    "\n",
    "DATA_PATH = os.path.abspath(os.path.join(root_folder, data_folder_name))\n",
    "train_filenamepath = os.path.abspath(os.path.join(DATA_PATH, train_filename))\n",
    "\n",
    "train_path = DATA_PATH\n",
    "test_path = DATA_PATH"
   ]
  },
  {
   "cell_type": "code",
   "execution_count": 4,
   "metadata": {
    "pycharm": {
     "name": "#%%\n"
    }
   },
   "outputs": [],
   "source": [
    "# Model parameters\n",
    "INPUT_COLUMN = 'input'\n",
    "TARGET_COLUMN = 'target'\n",
    "TARGET_FOR_INPUT = 'target_for_input'\n",
    "NUM_SAMPLES = 100000\n",
    "MAX_VOCAB_SIZE = 20000\n",
    "EMBEDDING_DIM = 128\n",
    "HIDDEN_DIM = 1024 # Number of cells in the hidden recurrent layers\n",
    "\n",
    "BATCH_SIZE = 64\n",
    "EPOCHS = 25"
   ]
  },
  {
   "cell_type": "code",
   "execution_count": 5,
   "metadata": {
    "pycharm": {
     "name": "#%%\n"
    }
   },
   "outputs": [],
   "source": [
    "def unicode_to_ascii(s):\n",
    "    return ''.join(c for c in unicodedata.normalize('NFD', s) if unicodedata.category(c) != 'Mn')\n",
    "\n",
    "def preprocess_sentence(w):\n",
    "    w = unicode_to_ascii(w.lower().strip())\n",
    "\n",
    "    w = re.sub(r\"([?.!,])\", r\" \\1 \", w) \n",
    "\n",
    "    # Replacement of unwanted characters with a space\n",
    "    w = re.sub(r\"[^a-zA-Z?.!,]+\", \" \", w)\n",
    "\n",
    "    w = re.sub(r'[\" \"]+', \" \", w) # Removal of consecutive spaces\n",
    "    return w"
   ]
  },
  {
   "cell_type": "markdown",
   "metadata": {
    "pycharm": {
     "name": "#%% md\n"
    }
   },
   "source": [
    "### Loading the dataset\n",
    "Loading the dataset into a Pandas DataFrame and applying preprocessing functions on it in the Input and Target columns."
   ]
  },
  {
   "cell_type": "code",
   "execution_count": 6,
   "metadata": {
    "pycharm": {
     "name": "#%%\n"
    }
   },
   "outputs": [
    {
     "name": "stdout",
     "output_type": "stream",
     "text": [
      "     input          target\n",
      "42  Do it.      Lo faccia.\n",
      "43  Do it.      La faccia.\n",
      "44  Do it.         Fatelo.\n",
      "45  Do it.         Fatela.\n",
      "46  Go on.     Vai avanti.\n",
      "47  Go on.       Continua.\n",
      "48  Go on.       Continui.\n",
      "49  Go on.     Continuate.\n",
      "50  Go on.    Vada avanti.\n",
      "51  Go on.  Andate avanti. \n",
      "\n",
      "['hi . ', 'hi . ', 'run ! ', 'run ! ', 'run ! ']\n",
      "['ciao !  <eos>', 'ciao .  <eos>', 'corri !  <eos>', 'corra !  <eos>', 'correte !  <eos>']\n",
      "['<sos> ciao ! ', '<sos> ciao . ', '<sos> corri ! ', '<sos> corra ! ', '<sos> correte ! ']\n"
     ]
    }
   ],
   "source": [
    "# Loading the dataset: sentence in English, sentence in Italian\n",
    "df = pd.read_csv(\n",
    "    train_filenamepath,\n",
    "    sep=\"\\t\",\n",
    "    header=None,\n",
    "    names=[INPUT_COLUMN, TARGET_COLUMN],\n",
    "    usecols=[0,1],\n",
    "    nrows=NUM_SAMPLES\n",
    ")\n",
    "\n",
    "print(df.iloc[42:52], '\\n')\n",
    "\n",
    "# Preprocessing of Input data\n",
    "input_data = df[INPUT_COLUMN].apply(lambda x : preprocess_sentence(x)).tolist()\n",
    "\n",
    "# Preprocessing of Target data with the addition of the end-of-sentence token\n",
    "target_data_eos = df[TARGET_COLUMN].apply(lambda x : preprocess_sentence(x)+ ' <eos>').tolist()\n",
    "\n",
    "# Preprocessing of Target data with the addition of the start-of-sentence token\n",
    "target_data_sos = df[TARGET_COLUMN].apply(lambda x : '<sos> '+ preprocess_sentence(x)).tolist()\n",
    "\n",
    "print(input_data[:5])\n",
    "print(target_data_eos[:5])\n",
    "print(target_data_sos[:5])"
   ]
  },
  {
   "cell_type": "markdown",
   "metadata": {
    "pycharm": {
     "name": "#%% md\n"
    }
   },
   "source": [
    "### Tokenization\n",
    "Converting sequences of words into sequences of integers enables models to operate on texts.\n",
    "In this example, two tokenizers are used, leveraging the Keras Tokenizer object,\n",
    "one for input sequences and one for target sequences."
   ]
  },
  {
   "cell_type": "code",
   "execution_count": 7,
   "metadata": {
    "pycharm": {
     "name": "#%%\n"
    }
   },
   "outputs": [
    {
     "name": "stdout",
     "output_type": "stream",
     "text": [
      "Maximum length:  9 \n",
      "\n",
      "do it . \n",
      "[16, 6, 1]\n"
     ]
    }
   ],
   "source": [
    "# The Tokenizer is constructed with filters='' to prevent the removal of punctuation characters present. \n",
    "# By default, Keras adds a series of standard filters, \n",
    "# which remove the following characters: !\"#$%&()*+,-./:;<=>?@[]^_`{|}~\\t\\n\"\n",
    "tokenizer_inputs = Tokenizer(num_words=MAX_VOCAB_SIZE, filters='')\n",
    "\n",
    "# Adapting the Tokenizer to the input texts\n",
    "tokenizer_inputs.fit_on_texts(input_data)\n",
    "\n",
    "# Transformation from sequences of words to sequences of numbers\n",
    "input_sequences = tokenizer_inputs.texts_to_sequences(input_data)\n",
    "\n",
    "# Maximum length in input sequences\n",
    "input_max_len = max(len(s) for s in input_sequences)\n",
    "print('Maximum length: ', input_max_len, '\\n')\n",
    "\n",
    "# Example of a sequence of words transformed into a sequence of numbers\n",
    "print(input_data[42])\n",
    "print(input_sequences[42])"
   ]
  },
  {
   "cell_type": "code",
   "execution_count": 9,
   "metadata": {
    "pycharm": {
     "name": "#%%\n"
    }
   },
   "outputs": [
    {
     "name": "stdout",
     "output_type": "stream",
     "text": [
      "Max Target Length:  20 \n",
      "\n",
      "Target sentence with end-of-sentence token (eos): lo faccia .  <eos>\n",
      "Target sequence with end-of-sequence token (eos): [23, 187, 1, 2]\n",
      "Target sentence with end-of-sentence token (eos): <sos> lo faccia . \n",
      "Target sequence with end-of-sequence token (eos): [3, 23, 187, 1]\n"
     ]
    }
   ],
   "source": [
    "# Tokenization of the targets\n",
    "tokenizer_outputs = Tokenizer(num_words=MAX_VOCAB_SIZE, filters='')\n",
    "tokenizer_outputs.fit_on_texts(target_data_eos)\n",
    "tokenizer_outputs.fit_on_texts(target_data_sos)\n",
    "\n",
    "# Transformation of the texts into sequences of integers\n",
    "target_sequences_eos = tokenizer_outputs.texts_to_sequences(target_data_eos)\n",
    "target_sequences_sos = tokenizer_outputs.texts_to_sequences(target_data_sos)\n",
    "\n",
    "# Maximum length of target sequences\n",
    "target_eos_max_len = max(len(s) for s in target_sequences_eos)\n",
    "print('Max Target Length: ', target_eos_max_len, '\\n')\n",
    "\n",
    "print('Target sentence with end-of-sentence token (eos):', target_data_eos[42])\n",
    "print('Target sequence with end-of-sequence token (eos):', target_sequences_eos[42])\n",
    "print('Target sentence with end-of-sentence token (eos):', target_data_sos[42])\n",
    "print('Target sequence with end-of-sequence token (eos):', target_sequences_sos[42])"
   ]
  },
  {
   "cell_type": "markdown",
   "metadata": {
    "pycharm": {
     "name": "#%% md\n"
    }
   },
   "source": [
    "### Creation of vocabularies\n",
    "From the previously created tokenizers, we can derive their respective vocabularies\n",
    "to map a word to an index (word2idx) and to map an index to a word (idx2word)."
   ]
  },
  {
   "cell_type": "code",
   "execution_count": 10,
   "metadata": {
    "pycharm": {
     "name": "#%%\n"
    }
   },
   "outputs": [
    {
     "name": "stdout",
     "output_type": "stream",
     "text": [
      "Found 6234 unique input tokens.\n",
      "Found 13559 unique output tokens.\n"
     ]
    }
   ],
   "source": [
    "# Retrieval of word indices for the input vocabulary\n",
    "word2idx_inputs = tokenizer_inputs.word_index\n",
    "print('Found %s unique input tokens.' % len(word2idx_inputs))\n",
    "\n",
    "# Retrieval of word indices for the output vocabulary\n",
    "word2idx_outputs = tokenizer_outputs.word_index\n",
    "print('Found %s unique output tokens.' % len(word2idx_outputs))\n",
    "\n",
    "# Data structures to retrieve a particular word given its index\n",
    "idx2word_inputs = {v:k for k, v in word2idx_inputs.items()}\n",
    "idx2word_outputs = {v:k for k, v in word2idx_outputs.items()}"
   ]
  },
  {
   "cell_type": "markdown",
   "metadata": {
    "pycharm": {
     "name": "#%% md\n"
    }
   },
   "source": [
    "### Padding of sentences\n",
    "Adding null (zero) values to the end of each sentence to make all sentences the same length. Otherwise, it wouldn't be possible to train the model on multiple examples at once (batch training)."
   ]
  },
  {
   "cell_type": "code",
   "execution_count": 11,
   "metadata": {
    "pycharm": {
     "name": "#%%\n"
    }
   },
   "outputs": [
    {
     "name": "stdout",
     "output_type": "stream",
     "text": [
      "Input sequence [16, 6, 1]\n",
      "encoder_inputs.shape: (100000, 9)\n",
      "encoder_inputs[0]: [16  6  1  0  0  0  0  0  0]\n",
      "\n",
      "Target sequence with <sos> (start-of-sequence) token [3, 23, 187, 1]\n",
      "decoder_inputs[0]: [  3  23 187   1   0   0   0   0   0   0   0   0   0   0   0   0   0   0\n",
      "   0   0]\n",
      "decoder_inputs.shape: (100000, 20)\n",
      "\n",
      "Target sequence with <sos> (start-of-sequence) token [23, 187, 1, 2]\n",
      "decoder_target[0]: [ 23 187   1   2   0   0   0   0   0   0   0   0   0   0   0   0   0   0\n",
      "   0   0]\n",
      "decoder_target.shape: (100000, 20)\n"
     ]
    }
   ],
   "source": [
    "# Padding of input sentences\n",
    "encoder_inputs = pad_sequences(input_sequences, maxlen=input_max_len, padding='post')\n",
    "print(\"Input sequence\", input_sequences[42])\n",
    "print(\"encoder_inputs.shape:\", encoder_inputs.shape)\n",
    "print(\"encoder_inputs[0]:\", encoder_inputs[42])\n",
    "print('')\n",
    "\n",
    "# Padding of target sentences with start-of-sequence token (sos)\n",
    "decoder_inputs = pad_sequences(target_sequences_sos, maxlen=target_eos_max_len, padding='post')\n",
    "print(\"Target sequence with <sos> (start-of-sequence) token\", target_sequences_sos[42])\n",
    "print(\"decoder_inputs[0]:\", decoder_inputs[42])\n",
    "print(\"decoder_inputs.shape:\", decoder_inputs.shape)\n",
    "print('')\n",
    "\n",
    "# Padding of target sentences with end-of-sequence token (eos)\n",
    "decoder_targets = pad_sequences(target_sequences_eos, maxlen=target_eos_max_len, padding='post')\n",
    "print(\"Target sequence with <sos> (start-of-sequence) token\", target_sequences_eos[42])\n",
    "print(\"decoder_target[0]:\", decoder_targets[42])\n",
    "print(\"decoder_target.shape:\", decoder_targets.shape)"
   ]
  },
  {
   "cell_type": "markdown",
   "metadata": {
    "pycharm": {
     "name": "#%% md\n"
    }
   },
   "source": [
    "### Dataset creation\n",
    "Using the tf.data library to manage the dataset to be used.\n",
    "Batches of examples will be created and utilized during training."
   ]
  },
  {
   "cell_type": "code",
   "execution_count": 10,
   "metadata": {
    "pycharm": {
     "name": "#%%\n"
    }
   },
   "outputs": [],
   "source": [
    "# Definition of the dataset\n",
    "# [from_tensor_slices] allows retrieving batches\n",
    "# of examples from the reference datasets.\n",
    "dataset = tf.data.Dataset.from_tensor_slices((encoder_inputs, decoder_inputs, decoder_targets))\n",
    "\n",
    "# Setting up random sampling of examples in batches of [BATCH_SIZE] from the available ones\n",
    "dataset = dataset.shuffle(len(input_data)).batch(BATCH_SIZE, drop_remainder=True)"
   ]
  },
  {
   "cell_type": "markdown",
   "metadata": {
    "pycharm": {
     "name": "#%% md\n"
    }
   },
   "source": [
    "### Implementation of a Recurrent Encoder-Decoder model\n",
    "The model can be represented through its three main components: encoder, encoded vector, decoder:\n",
    " \n",
    "    \n",
    "* **encoder**: Based on a recurrent layer, it receives a word from the input sequence in the form of a numeric token for each time step, producing an output and a state for each time step. The state at each time step t is used at time step t+1 along with the input related to time step t+1.\n",
    "* **encoder vector**: It is the state produced as output by the recurrent layers after processing the entire input sequence. During training, the network will strive to produce the best possible information so that the subsequent decoder block can perform its job optimally.\n",
    "* **decoder**: Based on a recurrent layer like the encoder block. It takes the encoder vector as input and produces the output representing the probability corresponding to each token in the vocabulary."
   ]
  },
  {
   "cell_type": "code",
   "execution_count": 12,
   "metadata": {},
   "outputs": [],
   "source": [
    "class Encoder(tf.keras.Model):\n",
    "    def __init__(self, vocab_size, embedding_dim, hidden_dim):\n",
    "        super(Encoder, self).__init__()\n",
    "        self.hidden_dim = hidden_dim\n",
    "        self.embedding = tf.keras.layers.Embedding(vocab_size, embedding_dim)\n",
    "        self.lstm = tf.keras.layers.LSTM(hidden_dim, return_sequences=True, return_state=True)\n",
    "\n",
    "    def call(self, input_sequence, states):\n",
    "        embed = self.embedding(input_sequence)\n",
    "        output, state_h, state_c = self.lstm(embed, initial_state=states)\n",
    "        return output, state_h, state_c\n",
    "\n",
    "    def init_states(self, batch_size):\n",
    "        # Initialization of the state for the recurrent cells\n",
    "        return (tf.zeros([batch_size, self.hidden_dim]),\n",
    "                tf.zeros([batch_size, self.hidden_dim]))"
   ]
  },
  {
   "cell_type": "code",
   "execution_count": 13,
   "metadata": {},
   "outputs": [],
   "source": [
    "class Decoder(tf.keras.Model):\n",
    "    def __init__(self, vocab_size, embedding_dim, hidden_dim):\n",
    "        super(Decoder, self).__init__()\n",
    "        self.hidden_dim = hidden_dim\n",
    "        self.embedding = tf.keras.layers.Embedding(vocab_size, embedding_dim)\n",
    "        self.lstm = tf.keras.layers.LSTM(hidden_dim, return_sequences=True, return_state=True)\n",
    "        self.dense = tf.keras.layers.Dense(vocab_size)\n",
    "\n",
    "    def call(self, input_sequence, state):\n",
    "        embed = self.embedding(input_sequence)\n",
    "        lstm_out, state_h, state_c = self.lstm(embed, state)\n",
    "        logits = self.dense(lstm_out)\n",
    "        return logits, state_h, state_c"
   ]
  },
  {
   "cell_type": "markdown",
   "metadata": {},
   "source": [
    "Below, an encoder and a decoder are instantiated, and their functionalities are tested."
   ]
  },
  {
   "cell_type": "code",
   "execution_count": 14,
   "metadata": {},
   "outputs": [
    {
     "name": "stdout",
     "output_type": "stream",
     "text": [
      "(1, 6, 1024)\n",
      "(1, 8, 13560)\n"
     ]
    }
   ],
   "source": [
    "# Length of the input and output vocabularies\n",
    "num_words_inputs = len(word2idx_inputs) + 1  # +1 because the indices are 1-based\n",
    "num_words_output = len(word2idx_outputs) + 1\n",
    "\n",
    "encoder = Encoder(num_words_inputs, EMBEDDING_DIM, HIDDEN_DIM)\n",
    "initial_state = encoder.init_states(1)\n",
    "\n",
    "# Call to the encoder for testing\n",
    "test_encoder_output = encoder(tf.constant([[1, 23, 4, 5, 0, 0]]), initial_state)\n",
    "print(test_encoder_output[0].shape)\n",
    "\n",
    "decoder = Decoder(num_words_output, EMBEDDING_DIM, HIDDEN_DIM)\n",
    "de_initial_state = test_encoder_output[1:]\n",
    "\n",
    "# Call to the decoder for testing\n",
    "test_decoder_output = decoder(tf.constant([[1, 3, 5, 7, 9, 0, 0, 0]]), de_initial_state)\n",
    "print(test_decoder_output[0].shape)"
   ]
  },
  {
   "cell_type": "markdown",
   "metadata": {},
   "source": [
    "### Cost function and metrics\n",
    "Definition of a custom cost function to avoid considering the padding values (0s) when calculating the error. Similar approach for calculating the model accuracy."
   ]
  },
  {
   "cell_type": "code",
   "execution_count": 15,
   "metadata": {},
   "outputs": [],
   "source": [
    "def loss_func(targets, logits):\n",
    "    crossentropy = tf.keras.losses.SparseCategoricalCrossentropy(from_logits=True)\n",
    "    # Masking of values equal to 0, used for padding\n",
    "    mask = tf.math.logical_not(tf.math.equal(targets, 0))\n",
    "    mask = tf.cast(mask, dtype=tf.int64)\n",
    "    # Error calculation\n",
    "    loss = crossentropy(targets, logits, sample_weight=mask)\n",
    "\n",
    "    return loss\n",
    "\n",
    "def accuracy_fn(y_true, y_pred):\n",
    "    # y_pred dimentions: (batch_size, seq_length, vocab_size)\n",
    "    # y_true dimentions: (batch_size, seq_length)\n",
    "    pred_values = K.cast(K.argmax(y_pred, axis=-1), dtype='int32')\n",
    "    correct = K.cast(K.equal(y_true, pred_values), dtype='float32')\n",
    "\n",
    "    # Masking of values equal to 0, used for padding\n",
    "    mask = K.cast(K.greater(y_true, 0), dtype='float32')\n",
    "    n_correct = K.sum(mask * correct)\n",
    "    n_total = K.sum(mask)\n",
    "  \n",
    "    return n_correct / n_total"
   ]
  },
  {
   "cell_type": "markdown",
   "metadata": {},
   "source": [
    "### Training\n",
    "\n",
    "* Call to the encoder for each batch of input sequences, the output produced is the encoded vector\n",
    "* Setting the initial state of the decoder equal to the encoded vector\n",
    "* Call to the decoder, passing the target sequence as input starting from the second element to eliminate the <sos> token \n",
    "* Calculation of loss and accuracy for each batch of examples\n",
    "* Update of model parameters"
   ]
  },
  {
   "cell_type": "code",
   "execution_count": 16,
   "metadata": {},
   "outputs": [],
   "source": [
    "@tf.function\n",
    "def train_step(input_seq, target_seq_in, target_seq_out, en_initial_states, optimizer):\n",
    "    # We use tf.GradientTape to keep track of gradients\n",
    "    with tf.GradientTape() as tape:\n",
    "        en_outputs = encoder(input_seq, en_initial_states)\n",
    "\n",
    "        # Configuration of the decoder state based on the encoder outpu\n",
    "        en_states = en_outputs[1:]\n",
    "        de_states = en_states\n",
    "\n",
    "        de_outputs = decoder(target_seq_in, de_states)\n",
    "\n",
    "        # Logits of the output\n",
    "        logits = de_outputs[0]\n",
    "\n",
    "        loss = loss_func(target_seq_out, logits)\n",
    "        acc = accuracy_fn(target_seq_out, logits)\n",
    "\n",
    "    parameters = encoder.trainable_variables + decoder.trainable_variables\n",
    "\n",
    "    # Calculation of gradients on the model parameters\n",
    "    gradients = tape.gradient(loss, parameters)\n",
    "\n",
    "    # Correction of the model weights\n",
    "    optimizer.apply_gradients(zip(gradients, parameters))\n",
    "\n",
    "    return loss, acc"
   ]
  },
  {
   "cell_type": "markdown",
   "metadata": {},
   "source": [
    "For training, three sequences are used:\n",
    "\n",
    "* **Input sequence**: An array of integers of size (batch_size, max_seq_len, embedding dim). It is the input sequence to the encoder.\n",
    "\n",
    "* **target sequence**: An array of integers of size (batch_size, max_seq_len, embedding dim). It is the expected output from the model.\n",
    "\n",
    "* **Target input sequence**: An array of integers of size (batch_size, max_seq_len, embedding dim). It is the input sequence to the decoder that utilizes the *Teacher Forcing* method.\n",
    "    \n",
    "        \n",
    "        \n",
    "### Teacher Forcing\n",
    "*Teacher Forcing* is one of the primary training methods in the field of NLP. It is a way to train recurrent architectures quickly. Normally, in recurrent architectures, the input at time step t of a sequence is the output generated by the same model at time step t-1. Instead of the output generated by the model, the predicted output at time step t-1 is used as input for each subsequent time step t. This way, it is possible to improve the learning capabilities of the network.\n",
    "\n",
    "This training technique is highly effective when the output predicted by a model does not vary excessively during training. If a model that is more creative and less conservative is needed, this technique should not be used, or it should be used every so often, in a pseudorandom manner, to contribute to variance in the outputs."
   ]
  },
  {
   "cell_type": "code",
   "execution_count": 16,
   "metadata": {},
   "outputs": [],
   "source": [
    "# Method to start training\n",
    "def main_train(encoder, decoder, dataset, n_epochs, batch_size, optimizer, checkpoint, checkpoint_prefix):\n",
    "    \n",
    "    losses = []\n",
    "    accuracies = []\n",
    "\n",
    "    for e in range(n_epochs):\n",
    "        start = time.time()\n",
    "        # Initialization and retrieval of the initialized state of the encoder\n",
    "        en_initial_states = encoder.init_states(batch_size)\n",
    "\n",
    "        # Loop over all examples one batch at a time\n",
    "        for batch, (input_seq, target_seq_in, target_seq_out) in enumerate(dataset.take(-1)):\n",
    "            # Training and retrieval of metrics\n",
    "            loss, accuracy = train_step(input_seq, target_seq_in, target_seq_out, en_initial_states, optimizer)\n",
    "        \n",
    "            if batch % 100 == 0:\n",
    "                # Storing loss and accuracy every 100 batches for subsequent analysis\n",
    "                losses.append(loss)\n",
    "                accuracies.append(accuracy)\n",
    "                print('Epoch {} Batch {} Loss {:.4f} Acc:{:.4f}'.format(e + 1, batch, loss.numpy(), accuracy.numpy()))\n",
    "                \n",
    "        # Checkpoint (saving state) of the model every 2 epochs\n",
    "        # Given the slowness of training, this allows to recover\n",
    "        # its state at later points after any stoppage,\n",
    "        # enabling to continue training without restarting it from scratch.\n",
    "        if (e + 1) % 2 == 0:\n",
    "            checkpoint.save(file_prefix=checkpoint_prefix)\n",
    "    \n",
    "        print('Time taken for 1\\'epoch {:.4f} sec\\n'.format(time.time() - start))\n",
    "        \n",
    "    return losses, accuracies"
   ]
  },
  {
   "cell_type": "code",
   "execution_count": 17,
   "metadata": {},
   "outputs": [
    {
     "name": "stdout",
     "output_type": "stream",
     "text": [
      "Epoch 1 Batch 0 Loss 2.6909 Acc:0.0000\n",
      "Epoch 1 Batch 100 Loss 1.3775 Acc:0.3607\n",
      "Epoch 1 Batch 200 Loss 1.2044 Acc:0.3802\n",
      "Epoch 1 Batch 300 Loss 1.1320 Acc:0.3901\n",
      "Epoch 1 Batch 400 Loss 1.1544 Acc:0.3520\n",
      "Epoch 1 Batch 500 Loss 1.1302 Acc:0.3953\n",
      "Epoch 1 Batch 600 Loss 1.0948 Acc:0.4204\n",
      "Epoch 1 Batch 700 Loss 1.0373 Acc:0.4297\n",
      "Epoch 1 Batch 800 Loss 1.0129 Acc:0.4336\n",
      "Epoch 1 Batch 900 Loss 1.0285 Acc:0.4548\n",
      "Epoch 1 Batch 1000 Loss 0.8821 Acc:0.4529\n",
      "Epoch 1 Batch 1100 Loss 0.8049 Acc:0.5114\n",
      "Epoch 1 Batch 1200 Loss 0.7655 Acc:0.5294\n",
      "Epoch 1 Batch 1300 Loss 0.8438 Acc:0.4880\n",
      "Epoch 1 Batch 1400 Loss 0.7748 Acc:0.5450\n",
      "Epoch 1 Batch 1500 Loss 0.7719 Acc:0.5331\n",
      "Time taken for 1 epoch 60.1968 sec\n",
      "\n",
      "Epoch 2 Batch 0 Loss 0.7485 Acc:0.5000\n",
      "Epoch 2 Batch 100 Loss 0.6300 Acc:0.5706\n",
      "Epoch 2 Batch 200 Loss 0.6746 Acc:0.5556\n",
      "Epoch 2 Batch 300 Loss 0.6384 Acc:0.5714\n",
      "Epoch 2 Batch 400 Loss 0.6586 Acc:0.5682\n",
      "Epoch 2 Batch 500 Loss 0.6443 Acc:0.5476\n",
      "Epoch 2 Batch 600 Loss 0.6623 Acc:0.5543\n",
      "Epoch 2 Batch 700 Loss 0.6272 Acc:0.5845\n",
      "Epoch 2 Batch 800 Loss 0.6206 Acc:0.5864\n",
      "Epoch 2 Batch 900 Loss 0.5829 Acc:0.5887\n",
      "Epoch 2 Batch 1000 Loss 0.6188 Acc:0.5686\n",
      "Epoch 2 Batch 1100 Loss 0.5230 Acc:0.6246\n",
      "Epoch 2 Batch 1200 Loss 0.5818 Acc:0.5637\n",
      "Epoch 2 Batch 1300 Loss 0.5624 Acc:0.6168\n",
      "Epoch 2 Batch 1400 Loss 0.5187 Acc:0.6402\n",
      "Epoch 2 Batch 1500 Loss 0.5850 Acc:0.6352\n",
      "Time taken for 1 epoch 58.7275 sec\n",
      "\n",
      "Epoch 3 Batch 0 Loss 0.4508 Acc:0.6432\n",
      "Epoch 3 Batch 100 Loss 0.4634 Acc:0.6475\n",
      "Epoch 3 Batch 200 Loss 0.4655 Acc:0.6320\n",
      "Epoch 3 Batch 300 Loss 0.4616 Acc:0.6474\n",
      "Epoch 3 Batch 400 Loss 0.4791 Acc:0.6509\n",
      "Epoch 3 Batch 500 Loss 0.3976 Acc:0.6496\n",
      "Epoch 3 Batch 600 Loss 0.4287 Acc:0.6685\n",
      "Epoch 3 Batch 700 Loss 0.4168 Acc:0.6736\n",
      "Epoch 3 Batch 800 Loss 0.4559 Acc:0.6481\n",
      "Epoch 3 Batch 900 Loss 0.4207 Acc:0.6774\n",
      "Epoch 3 Batch 1000 Loss 0.4045 Acc:0.6648\n",
      "Epoch 3 Batch 1100 Loss 0.4190 Acc:0.6320\n",
      "Epoch 3 Batch 1200 Loss 0.4593 Acc:0.6639\n",
      "Epoch 3 Batch 1300 Loss 0.4127 Acc:0.6385\n",
      "Epoch 3 Batch 1400 Loss 0.3963 Acc:0.6896\n",
      "Epoch 3 Batch 1500 Loss 0.3682 Acc:0.6847\n",
      "Time taken for 1 epoch 58.2667 sec\n",
      "\n",
      "Epoch 4 Batch 0 Loss 0.3402 Acc:0.6975\n",
      "Epoch 4 Batch 100 Loss 0.3278 Acc:0.7035\n",
      "Epoch 4 Batch 200 Loss 0.3397 Acc:0.7042\n",
      "Epoch 4 Batch 300 Loss 0.3249 Acc:0.7089\n",
      "Epoch 4 Batch 400 Loss 0.3012 Acc:0.7118\n",
      "Epoch 4 Batch 500 Loss 0.3567 Acc:0.7074\n",
      "Epoch 4 Batch 600 Loss 0.3159 Acc:0.7074\n",
      "Epoch 4 Batch 700 Loss 0.3612 Acc:0.6894\n",
      "Epoch 4 Batch 800 Loss 0.2976 Acc:0.7270\n",
      "Epoch 4 Batch 900 Loss 0.3093 Acc:0.7317\n",
      "Epoch 4 Batch 1000 Loss 0.3532 Acc:0.7112\n",
      "Epoch 4 Batch 1100 Loss 0.3184 Acc:0.6863\n",
      "Epoch 4 Batch 1200 Loss 0.3169 Acc:0.7166\n",
      "Epoch 4 Batch 1300 Loss 0.3296 Acc:0.7060\n",
      "Epoch 4 Batch 1400 Loss 0.3544 Acc:0.7029\n",
      "Epoch 4 Batch 1500 Loss 0.3025 Acc:0.7022\n",
      "Time taken for 1 epoch 61.1561 sec\n",
      "\n",
      "Epoch 5 Batch 0 Loss 0.2311 Acc:0.7789\n",
      "Epoch 5 Batch 100 Loss 0.2263 Acc:0.7989\n",
      "Epoch 5 Batch 200 Loss 0.2410 Acc:0.7827\n",
      "Epoch 5 Batch 300 Loss 0.2622 Acc:0.7682\n",
      "Epoch 5 Batch 400 Loss 0.2377 Acc:0.7739\n",
      "Epoch 5 Batch 500 Loss 0.2443 Acc:0.7486\n",
      "Epoch 5 Batch 600 Loss 0.2445 Acc:0.7547\n",
      "Epoch 5 Batch 700 Loss 0.2498 Acc:0.7479\n",
      "Epoch 5 Batch 800 Loss 0.2516 Acc:0.7507\n",
      "Epoch 5 Batch 900 Loss 0.2560 Acc:0.7459\n",
      "Epoch 5 Batch 1000 Loss 0.2395 Acc:0.7337\n",
      "Epoch 5 Batch 1100 Loss 0.2683 Acc:0.7527\n",
      "Epoch 5 Batch 1200 Loss 0.2563 Acc:0.7560\n",
      "Epoch 5 Batch 1300 Loss 0.2129 Acc:0.7527\n",
      "Epoch 5 Batch 1400 Loss 0.2271 Acc:0.7548\n",
      "Epoch 5 Batch 1500 Loss 0.2342 Acc:0.7796\n",
      "Time taken for 1 epoch 61.7940 sec\n",
      "\n",
      "Epoch 6 Batch 0 Loss 0.2025 Acc:0.7901\n",
      "Epoch 6 Batch 100 Loss 0.1583 Acc:0.8080\n",
      "Epoch 6 Batch 200 Loss 0.1879 Acc:0.8016\n",
      "Epoch 6 Batch 300 Loss 0.1873 Acc:0.7978\n",
      "Epoch 6 Batch 400 Loss 0.2066 Acc:0.7479\n",
      "Epoch 6 Batch 500 Loss 0.2286 Acc:0.7526\n",
      "Epoch 6 Batch 600 Loss 0.1952 Acc:0.7935\n",
      "Epoch 6 Batch 700 Loss 0.1969 Acc:0.7935\n",
      "Epoch 6 Batch 800 Loss 0.2088 Acc:0.7953\n",
      "Epoch 6 Batch 900 Loss 0.2165 Acc:0.7730\n",
      "Epoch 6 Batch 1000 Loss 0.1815 Acc:0.7939\n",
      "Epoch 6 Batch 1100 Loss 0.2019 Acc:0.7808\n",
      "Epoch 6 Batch 1200 Loss 0.2164 Acc:0.7513\n",
      "Epoch 6 Batch 1300 Loss 0.1912 Acc:0.7781\n",
      "Epoch 6 Batch 1400 Loss 0.2066 Acc:0.7711\n",
      "Epoch 6 Batch 1500 Loss 0.1966 Acc:0.7910\n",
      "Time taken for 1 epoch 63.2593 sec\n",
      "\n",
      "Epoch 7 Batch 0 Loss 0.1577 Acc:0.8225\n",
      "Epoch 7 Batch 100 Loss 0.1528 Acc:0.8316\n",
      "Epoch 7 Batch 200 Loss 0.1799 Acc:0.7902\n",
      "Epoch 7 Batch 300 Loss 0.1747 Acc:0.7867\n",
      "Epoch 7 Batch 400 Loss 0.1778 Acc:0.8223\n",
      "Epoch 7 Batch 500 Loss 0.1722 Acc:0.7989\n",
      "Epoch 7 Batch 600 Loss 0.1896 Acc:0.7817\n",
      "Epoch 7 Batch 700 Loss 0.1716 Acc:0.8031\n",
      "Epoch 7 Batch 800 Loss 0.1670 Acc:0.8011\n",
      "Epoch 7 Batch 900 Loss 0.1829 Acc:0.7888\n",
      "Epoch 7 Batch 1000 Loss 0.1545 Acc:0.8306\n",
      "Epoch 7 Batch 1100 Loss 0.1853 Acc:0.7898\n",
      "Epoch 7 Batch 1200 Loss 0.1820 Acc:0.7967\n",
      "Epoch 7 Batch 1300 Loss 0.1747 Acc:0.7994\n",
      "Epoch 7 Batch 1400 Loss 0.1630 Acc:0.8099\n",
      "Epoch 7 Batch 1500 Loss 0.1894 Acc:0.8057\n",
      "Time taken for 1 epoch 63.6661 sec\n",
      "\n",
      "Epoch 8 Batch 0 Loss 0.1409 Acc:0.8169\n",
      "Epoch 8 Batch 100 Loss 0.1476 Acc:0.8156\n",
      "Epoch 8 Batch 200 Loss 0.1246 Acc:0.8430\n",
      "Epoch 8 Batch 300 Loss 0.1282 Acc:0.8343\n",
      "Epoch 8 Batch 400 Loss 0.1263 Acc:0.8338\n",
      "Epoch 8 Batch 500 Loss 0.1418 Acc:0.8251\n",
      "Epoch 8 Batch 600 Loss 0.1327 Acc:0.8362\n",
      "Epoch 8 Batch 700 Loss 0.1593 Acc:0.7887\n",
      "Epoch 8 Batch 800 Loss 0.1368 Acc:0.8320\n",
      "Epoch 8 Batch 900 Loss 0.1427 Acc:0.8307\n",
      "Epoch 8 Batch 1000 Loss 0.1501 Acc:0.8179\n",
      "Epoch 8 Batch 1100 Loss 0.1435 Acc:0.8192\n",
      "Epoch 8 Batch 1200 Loss 0.1509 Acc:0.8250\n",
      "Epoch 8 Batch 1300 Loss 0.1576 Acc:0.7995\n",
      "Epoch 8 Batch 1400 Loss 0.1582 Acc:0.8149\n",
      "Epoch 8 Batch 1500 Loss 0.1606 Acc:0.7984\n",
      "Time taken for 1 epoch 64.3887 sec\n",
      "\n",
      "Epoch 9 Batch 0 Loss 0.1283 Acc:0.8189\n",
      "Epoch 9 Batch 100 Loss 0.1190 Acc:0.8352\n",
      "Epoch 9 Batch 200 Loss 0.1287 Acc:0.8421\n",
      "Epoch 9 Batch 300 Loss 0.1315 Acc:0.8398\n",
      "Epoch 9 Batch 400 Loss 0.1424 Acc:0.8174\n",
      "Epoch 9 Batch 500 Loss 0.1262 Acc:0.8403\n",
      "Epoch 9 Batch 600 Loss 0.1311 Acc:0.8273\n",
      "Epoch 9 Batch 700 Loss 0.1422 Acc:0.8260\n",
      "Epoch 9 Batch 800 Loss 0.1426 Acc:0.7971\n",
      "Epoch 9 Batch 900 Loss 0.1626 Acc:0.7871\n",
      "Epoch 9 Batch 1000 Loss 0.1392 Acc:0.8275\n",
      "Epoch 9 Batch 1100 Loss 0.1521 Acc:0.8315\n",
      "Epoch 9 Batch 1200 Loss 0.1490 Acc:0.8194\n",
      "Epoch 9 Batch 1300 Loss 0.1443 Acc:0.8164\n",
      "Epoch 9 Batch 1400 Loss 0.1275 Acc:0.8411\n",
      "Epoch 9 Batch 1500 Loss 0.1482 Acc:0.8135\n",
      "Time taken for 1 epoch 63.8440 sec\n",
      "\n",
      "Epoch 10 Batch 0 Loss 0.1165 Acc:0.8282\n",
      "Epoch 10 Batch 100 Loss 0.1283 Acc:0.8381\n",
      "Epoch 10 Batch 200 Loss 0.1252 Acc:0.8292\n",
      "Epoch 10 Batch 300 Loss 0.1251 Acc:0.8439\n",
      "Epoch 10 Batch 400 Loss 0.1191 Acc:0.8539\n",
      "Epoch 10 Batch 500 Loss 0.1325 Acc:0.8184\n",
      "Epoch 10 Batch 600 Loss 0.1263 Acc:0.8225\n",
      "Epoch 10 Batch 700 Loss 0.1254 Acc:0.8441\n",
      "Epoch 10 Batch 800 Loss 0.1294 Acc:0.8116\n",
      "Epoch 10 Batch 900 Loss 0.1274 Acc:0.8474\n",
      "Epoch 10 Batch 1000 Loss 0.1315 Acc:0.8324\n",
      "Epoch 10 Batch 1100 Loss 0.1577 Acc:0.8142\n",
      "Epoch 10 Batch 1200 Loss 0.1282 Acc:0.8435\n",
      "Epoch 10 Batch 1300 Loss 0.1579 Acc:0.8132\n",
      "Epoch 10 Batch 1400 Loss 0.1489 Acc:0.7863\n",
      "Epoch 10 Batch 1500 Loss 0.1313 Acc:0.8179\n",
      "Time taken for 1 epoch 64.1021 sec\n",
      "\n",
      "Epoch 11 Batch 0 Loss 0.1070 Acc:0.8618\n",
      "Epoch 11 Batch 100 Loss 0.1088 Acc:0.8287\n",
      "Epoch 11 Batch 200 Loss 0.1079 Acc:0.8519\n",
      "Epoch 11 Batch 300 Loss 0.1139 Acc:0.8472\n",
      "Epoch 11 Batch 400 Loss 0.1238 Acc:0.8291\n",
      "Epoch 11 Batch 500 Loss 0.1300 Acc:0.8508\n",
      "Epoch 11 Batch 600 Loss 0.1336 Acc:0.8280\n",
      "Epoch 11 Batch 700 Loss 0.1242 Acc:0.8302\n",
      "Epoch 11 Batch 800 Loss 0.1640 Acc:0.8022\n",
      "Epoch 11 Batch 900 Loss 0.1348 Acc:0.8153\n",
      "Epoch 11 Batch 1000 Loss 0.1110 Acc:0.8592\n",
      "Epoch 11 Batch 1100 Loss 0.1217 Acc:0.8238\n",
      "Epoch 11 Batch 1200 Loss 0.1195 Acc:0.8491\n",
      "Epoch 11 Batch 1300 Loss 0.1457 Acc:0.8308\n",
      "Epoch 11 Batch 1400 Loss 0.1196 Acc:0.8466\n",
      "Epoch 11 Batch 1500 Loss 0.1207 Acc:0.8575\n",
      "Time taken for 1 epoch 63.6548 sec\n",
      "\n",
      "Epoch 12 Batch 0 Loss 0.1237 Acc:0.8222\n",
      "Epoch 12 Batch 100 Loss 0.0864 Acc:0.8819\n",
      "Epoch 12 Batch 200 Loss 0.0857 Acc:0.8796\n",
      "Epoch 12 Batch 300 Loss 0.1046 Acc:0.8379\n",
      "Epoch 12 Batch 400 Loss 0.1221 Acc:0.8583\n",
      "Epoch 12 Batch 500 Loss 0.1224 Acc:0.8291\n",
      "Epoch 12 Batch 600 Loss 0.1204 Acc:0.8410\n",
      "Epoch 12 Batch 700 Loss 0.1334 Acc:0.8090\n",
      "Epoch 12 Batch 800 Loss 0.0997 Acc:0.8528\n",
      "Epoch 12 Batch 900 Loss 0.1308 Acc:0.8128\n",
      "Epoch 12 Batch 1000 Loss 0.1254 Acc:0.8287\n",
      "Epoch 12 Batch 1100 Loss 0.1232 Acc:0.8310\n",
      "Epoch 12 Batch 1200 Loss 0.1374 Acc:0.8245\n",
      "Epoch 12 Batch 1300 Loss 0.1249 Acc:0.8311\n",
      "Epoch 12 Batch 1400 Loss 0.1176 Acc:0.8379\n",
      "Epoch 12 Batch 1500 Loss 0.1369 Acc:0.8280\n",
      "Time taken for 1 epoch 64.9050 sec\n",
      "\n",
      "Epoch 13 Batch 0 Loss 0.0881 Acc:0.8676\n",
      "Epoch 13 Batch 100 Loss 0.0994 Acc:0.8607\n",
      "Epoch 13 Batch 200 Loss 0.1011 Acc:0.8587\n",
      "Epoch 13 Batch 300 Loss 0.1008 Acc:0.8459\n",
      "Epoch 13 Batch 400 Loss 0.0946 Acc:0.8681\n",
      "Epoch 13 Batch 500 Loss 0.1197 Acc:0.8495\n",
      "Epoch 13 Batch 600 Loss 0.1087 Acc:0.8449\n",
      "Epoch 13 Batch 700 Loss 0.1162 Acc:0.8408\n",
      "Epoch 13 Batch 800 Loss 0.1084 Acc:0.8488\n",
      "Epoch 13 Batch 900 Loss 0.1073 Acc:0.8549\n",
      "Epoch 13 Batch 1000 Loss 0.0984 Acc:0.8708\n",
      "Epoch 13 Batch 1100 Loss 0.1176 Acc:0.8192\n",
      "Epoch 13 Batch 1200 Loss 0.1105 Acc:0.8240\n",
      "Epoch 13 Batch 1300 Loss 0.1321 Acc:0.8083\n",
      "Epoch 13 Batch 1400 Loss 0.1177 Acc:0.8424\n",
      "Epoch 13 Batch 1500 Loss 0.1330 Acc:0.8059\n",
      "Time taken for 1 epoch 64.0732 sec\n",
      "\n",
      "Epoch 14 Batch 0 Loss 0.1081 Acc:0.8559\n",
      "Epoch 14 Batch 100 Loss 0.0906 Acc:0.8556\n",
      "Epoch 14 Batch 200 Loss 0.1018 Acc:0.8497\n",
      "Epoch 14 Batch 300 Loss 0.0990 Acc:0.8638\n",
      "Epoch 14 Batch 400 Loss 0.1098 Acc:0.8220\n",
      "Epoch 14 Batch 500 Loss 0.1060 Acc:0.8423\n",
      "Epoch 14 Batch 600 Loss 0.1101 Acc:0.8381\n",
      "Epoch 14 Batch 700 Loss 0.1022 Acc:0.8401\n",
      "Epoch 14 Batch 800 Loss 0.1106 Acc:0.8397\n",
      "Epoch 14 Batch 900 Loss 0.1134 Acc:0.8315\n",
      "Epoch 14 Batch 1000 Loss 0.1206 Acc:0.8440\n",
      "Epoch 14 Batch 1100 Loss 0.1090 Acc:0.8501\n",
      "Epoch 14 Batch 1200 Loss 0.1105 Acc:0.8451\n",
      "Epoch 14 Batch 1300 Loss 0.1145 Acc:0.8497\n",
      "Epoch 14 Batch 1400 Loss 0.1363 Acc:0.8085\n",
      "Epoch 14 Batch 1500 Loss 0.1100 Acc:0.8283\n",
      "Time taken for 1 epoch 64.2915 sec\n",
      "\n",
      "Epoch 15 Batch 0 Loss 0.0879 Acc:0.8839\n",
      "Epoch 15 Batch 100 Loss 0.0907 Acc:0.8671\n",
      "Epoch 15 Batch 200 Loss 0.0907 Acc:0.8654\n",
      "Epoch 15 Batch 300 Loss 0.0999 Acc:0.8523\n",
      "Epoch 15 Batch 400 Loss 0.1047 Acc:0.8719\n",
      "Epoch 15 Batch 500 Loss 0.0875 Acc:0.8661\n",
      "Epoch 15 Batch 600 Loss 0.1224 Acc:0.8311\n",
      "Epoch 15 Batch 700 Loss 0.1149 Acc:0.8177\n",
      "Epoch 15 Batch 800 Loss 0.1093 Acc:0.8544\n",
      "Epoch 15 Batch 900 Loss 0.1033 Acc:0.8378\n",
      "Epoch 15 Batch 1000 Loss 0.1063 Acc:0.8534\n",
      "Epoch 15 Batch 1100 Loss 0.1140 Acc:0.8397\n",
      "Epoch 15 Batch 1200 Loss 0.1068 Acc:0.8540\n",
      "Epoch 15 Batch 1300 Loss 0.1166 Acc:0.8545\n",
      "Epoch 15 Batch 1400 Loss 0.1103 Acc:0.8187\n",
      "Epoch 15 Batch 1500 Loss 0.1059 Acc:0.8353\n",
      "Time taken for 1 epoch 64.9095 sec\n",
      "\n",
      "Epoch 16 Batch 0 Loss 0.0888 Acc:0.8670\n",
      "Epoch 16 Batch 100 Loss 0.0859 Acc:0.8726\n",
      "Epoch 16 Batch 200 Loss 0.0957 Acc:0.8757\n",
      "Epoch 16 Batch 300 Loss 0.1033 Acc:0.8516\n",
      "Epoch 16 Batch 400 Loss 0.1025 Acc:0.8540\n",
      "Epoch 16 Batch 500 Loss 0.0890 Acc:0.8767\n",
      "Epoch 16 Batch 600 Loss 0.1086 Acc:0.8287\n",
      "Epoch 16 Batch 700 Loss 0.1045 Acc:0.8184\n",
      "Epoch 16 Batch 800 Loss 0.1273 Acc:0.8403\n",
      "Epoch 16 Batch 900 Loss 0.0859 Acc:0.8568\n",
      "Epoch 16 Batch 1000 Loss 0.0932 Acc:0.8591\n",
      "Epoch 16 Batch 1100 Loss 0.1044 Acc:0.8514\n",
      "Epoch 16 Batch 1200 Loss 0.1089 Acc:0.8280\n",
      "Epoch 16 Batch 1300 Loss 0.1225 Acc:0.8414\n",
      "Epoch 16 Batch 1400 Loss 0.1184 Acc:0.8167\n",
      "Epoch 16 Batch 1500 Loss 0.1225 Acc:0.8263\n",
      "Time taken for 1 epoch 64.8951 sec\n",
      "\n",
      "Epoch 17 Batch 0 Loss 0.0941 Acc:0.8704\n",
      "Epoch 17 Batch 100 Loss 0.0902 Acc:0.8726\n",
      "Epoch 17 Batch 200 Loss 0.1013 Acc:0.8451\n",
      "Epoch 17 Batch 300 Loss 0.0898 Acc:0.8407\n",
      "Epoch 17 Batch 400 Loss 0.0956 Acc:0.8556\n",
      "Epoch 17 Batch 500 Loss 0.1031 Acc:0.8484\n",
      "Epoch 17 Batch 600 Loss 0.0859 Acc:0.8760\n",
      "Epoch 17 Batch 700 Loss 0.1149 Acc:0.8289\n",
      "Epoch 17 Batch 800 Loss 0.1176 Acc:0.8275\n",
      "Epoch 17 Batch 900 Loss 0.1069 Acc:0.8431\n",
      "Epoch 17 Batch 1000 Loss 0.1109 Acc:0.8443\n",
      "Epoch 17 Batch 1100 Loss 0.1047 Acc:0.8449\n",
      "Epoch 17 Batch 1200 Loss 0.1037 Acc:0.8579\n",
      "Epoch 17 Batch 1300 Loss 0.0998 Acc:0.8177\n",
      "Epoch 17 Batch 1400 Loss 0.1037 Acc:0.8567\n",
      "Epoch 17 Batch 1500 Loss 0.1093 Acc:0.8267\n",
      "Time taken for 1 epoch 65.0838 sec\n",
      "\n",
      "Epoch 18 Batch 0 Loss 0.0863 Acc:0.8639\n",
      "Epoch 18 Batch 100 Loss 0.0750 Acc:0.8782\n",
      "Epoch 18 Batch 200 Loss 0.0879 Acc:0.8771\n",
      "Epoch 18 Batch 300 Loss 0.0902 Acc:0.8447\n",
      "Epoch 18 Batch 400 Loss 0.1052 Acc:0.8514\n",
      "Epoch 18 Batch 500 Loss 0.0994 Acc:0.8556\n",
      "Epoch 18 Batch 600 Loss 0.1104 Acc:0.8421\n",
      "Epoch 18 Batch 700 Loss 0.0981 Acc:0.8579\n",
      "Epoch 18 Batch 800 Loss 0.0805 Acc:0.8705\n",
      "Epoch 18 Batch 900 Loss 0.0972 Acc:0.8603\n",
      "Epoch 18 Batch 1000 Loss 0.1015 Acc:0.8459\n",
      "Epoch 18 Batch 1100 Loss 0.1044 Acc:0.8407\n",
      "Epoch 18 Batch 1200 Loss 0.1053 Acc:0.8455\n",
      "Epoch 18 Batch 1300 Loss 0.1185 Acc:0.7977\n",
      "Epoch 18 Batch 1400 Loss 0.0955 Acc:0.8799\n",
      "Epoch 18 Batch 1500 Loss 0.0973 Acc:0.8440\n",
      "Time taken for 1 epoch 65.0582 sec\n",
      "\n",
      "Epoch 19 Batch 0 Loss 0.0849 Acc:0.8696\n",
      "Epoch 19 Batch 100 Loss 0.1050 Acc:0.8459\n",
      "Epoch 19 Batch 200 Loss 0.1181 Acc:0.8268\n",
      "Epoch 19 Batch 300 Loss 0.0814 Acc:0.8734\n",
      "Epoch 19 Batch 400 Loss 0.0806 Acc:0.8827\n",
      "Epoch 19 Batch 500 Loss 0.1028 Acc:0.8249\n",
      "Epoch 19 Batch 600 Loss 0.1039 Acc:0.8172\n",
      "Epoch 19 Batch 700 Loss 0.0991 Acc:0.8306\n",
      "Epoch 19 Batch 800 Loss 0.1116 Acc:0.8135\n",
      "Epoch 19 Batch 900 Loss 0.1151 Acc:0.8215\n",
      "Epoch 19 Batch 1000 Loss 0.0964 Acc:0.8459\n",
      "Epoch 19 Batch 1100 Loss 0.0973 Acc:0.8707\n",
      "Epoch 19 Batch 1200 Loss 0.0949 Acc:0.8815\n",
      "Epoch 19 Batch 1300 Loss 0.1199 Acc:0.8286\n",
      "Epoch 19 Batch 1400 Loss 0.1037 Acc:0.8495\n",
      "Epoch 19 Batch 1500 Loss 0.1064 Acc:0.8615\n",
      "Time taken for 1 epoch 65.3343 sec\n",
      "\n",
      "Epoch 20 Batch 0 Loss 0.0729 Acc:0.8795\n",
      "Epoch 20 Batch 100 Loss 0.0869 Acc:0.8472\n",
      "Epoch 20 Batch 200 Loss 0.0905 Acc:0.8559\n",
      "Epoch 20 Batch 300 Loss 0.1026 Acc:0.8245\n",
      "Epoch 20 Batch 400 Loss 0.0940 Acc:0.8357\n",
      "Epoch 20 Batch 500 Loss 0.0822 Acc:0.8634\n",
      "Epoch 20 Batch 600 Loss 0.0879 Acc:0.8324\n",
      "Epoch 20 Batch 700 Loss 0.0798 Acc:0.8691\n",
      "Epoch 20 Batch 800 Loss 0.0934 Acc:0.8516\n",
      "Epoch 20 Batch 900 Loss 0.0988 Acc:0.8521\n",
      "Epoch 20 Batch 1000 Loss 0.0960 Acc:0.8525\n",
      "Epoch 20 Batch 1100 Loss 0.0981 Acc:0.8571\n",
      "Epoch 20 Batch 1200 Loss 0.1039 Acc:0.8316\n",
      "Epoch 20 Batch 1300 Loss 0.1021 Acc:0.8258\n",
      "Epoch 20 Batch 1400 Loss 0.1007 Acc:0.8283\n",
      "Epoch 20 Batch 1500 Loss 0.1056 Acc:0.8240\n",
      "Time taken for 1 epoch 66.5145 sec\n",
      "\n",
      "Epoch 21 Batch 0 Loss 0.0734 Acc:0.8895\n",
      "Epoch 21 Batch 100 Loss 0.0885 Acc:0.8536\n",
      "Epoch 21 Batch 200 Loss 0.0866 Acc:0.8727\n",
      "Epoch 21 Batch 300 Loss 0.0890 Acc:0.8703\n",
      "Epoch 21 Batch 400 Loss 0.0924 Acc:0.8677\n",
      "Epoch 21 Batch 500 Loss 0.1093 Acc:0.8386\n",
      "Epoch 21 Batch 600 Loss 0.0866 Acc:0.8681\n",
      "Epoch 21 Batch 700 Loss 0.1012 Acc:0.8480\n",
      "Epoch 21 Batch 800 Loss 0.0958 Acc:0.8351\n",
      "Epoch 21 Batch 900 Loss 0.1066 Acc:0.8361\n",
      "Epoch 21 Batch 1000 Loss 0.0888 Acc:0.8715\n",
      "Epoch 21 Batch 1100 Loss 0.1003 Acc:0.8447\n",
      "Epoch 21 Batch 1200 Loss 0.0956 Acc:0.8615\n",
      "Epoch 21 Batch 1300 Loss 0.0888 Acc:0.8607\n",
      "Epoch 21 Batch 1400 Loss 0.1002 Acc:0.8431\n",
      "Epoch 21 Batch 1500 Loss 0.1133 Acc:0.8319\n",
      "Time taken for 1 epoch 66.0206 sec\n",
      "\n",
      "Epoch 22 Batch 0 Loss 0.0793 Acc:0.8737\n",
      "Epoch 22 Batch 100 Loss 0.0877 Acc:0.8522\n",
      "Epoch 22 Batch 200 Loss 0.0701 Acc:0.8790\n",
      "Epoch 22 Batch 300 Loss 0.0874 Acc:0.8607\n",
      "Epoch 22 Batch 400 Loss 0.0882 Acc:0.8390\n",
      "Epoch 22 Batch 500 Loss 0.0921 Acc:0.8603\n",
      "Epoch 22 Batch 600 Loss 0.0842 Acc:0.8466\n",
      "Epoch 22 Batch 700 Loss 0.1063 Acc:0.8365\n",
      "Epoch 22 Batch 800 Loss 0.0914 Acc:0.8470\n",
      "Epoch 22 Batch 900 Loss 0.0933 Acc:0.8437\n",
      "Epoch 22 Batch 1000 Loss 0.0954 Acc:0.8595\n",
      "Epoch 22 Batch 1100 Loss 0.0990 Acc:0.8474\n",
      "Epoch 22 Batch 1200 Loss 0.1020 Acc:0.8596\n",
      "Epoch 22 Batch 1300 Loss 0.0782 Acc:0.8840\n",
      "Epoch 22 Batch 1400 Loss 0.1109 Acc:0.8161\n",
      "Epoch 22 Batch 1500 Loss 0.1075 Acc:0.8301\n",
      "Time taken for 1 epoch 67.1008 sec\n",
      "\n",
      "Epoch 23 Batch 0 Loss 0.0780 Acc:0.8630\n",
      "Epoch 23 Batch 100 Loss 0.0856 Acc:0.8584\n",
      "Epoch 23 Batch 200 Loss 0.0730 Acc:0.8736\n",
      "Epoch 23 Batch 300 Loss 0.0874 Acc:0.8753\n",
      "Epoch 23 Batch 400 Loss 0.0755 Acc:0.8700\n",
      "Epoch 23 Batch 500 Loss 0.0997 Acc:0.8388\n",
      "Epoch 23 Batch 600 Loss 0.0984 Acc:0.8474\n",
      "Epoch 23 Batch 700 Loss 0.0932 Acc:0.8342\n",
      "Epoch 23 Batch 800 Loss 0.0945 Acc:0.8324\n",
      "Epoch 23 Batch 900 Loss 0.0898 Acc:0.8536\n",
      "Epoch 23 Batch 1000 Loss 0.1008 Acc:0.8145\n",
      "Epoch 23 Batch 1100 Loss 0.1001 Acc:0.8028\n",
      "Epoch 23 Batch 1200 Loss 0.0957 Acc:0.8434\n",
      "Epoch 23 Batch 1300 Loss 0.1000 Acc:0.8177\n",
      "Epoch 23 Batch 1400 Loss 0.1056 Acc:0.8250\n",
      "Epoch 23 Batch 1500 Loss 0.1028 Acc:0.8307\n",
      "Time taken for 1 epoch 65.8092 sec\n",
      "\n",
      "Epoch 24 Batch 0 Loss 0.0763 Acc:0.8846\n",
      "Epoch 24 Batch 100 Loss 0.0855 Acc:0.8440\n",
      "Epoch 24 Batch 200 Loss 0.0896 Acc:0.8547\n",
      "Epoch 24 Batch 300 Loss 0.0797 Acc:0.8384\n",
      "Epoch 24 Batch 400 Loss 0.0992 Acc:0.8468\n",
      "Epoch 24 Batch 500 Loss 0.0972 Acc:0.8515\n",
      "Epoch 24 Batch 600 Loss 0.0947 Acc:0.8646\n",
      "Epoch 24 Batch 700 Loss 0.0891 Acc:0.8583\n",
      "Epoch 24 Batch 800 Loss 0.0873 Acc:0.8583\n",
      "Epoch 24 Batch 900 Loss 0.1040 Acc:0.8411\n",
      "Epoch 24 Batch 1000 Loss 0.0955 Acc:0.8491\n",
      "Epoch 24 Batch 1100 Loss 0.1010 Acc:0.8394\n",
      "Epoch 24 Batch 1200 Loss 0.0922 Acc:0.8635\n",
      "Epoch 24 Batch 1300 Loss 0.1115 Acc:0.8204\n",
      "Epoch 24 Batch 1400 Loss 0.0977 Acc:0.8333\n",
      "Epoch 24 Batch 1500 Loss 0.1067 Acc:0.8280\n",
      "Time taken for 1 epoch 66.8148 sec\n",
      "\n",
      "Epoch 25 Batch 0 Loss 0.0836 Acc:0.8622\n",
      "Epoch 25 Batch 100 Loss 0.0769 Acc:0.8665\n",
      "Epoch 25 Batch 200 Loss 0.0748 Acc:0.8827\n",
      "Epoch 25 Batch 300 Loss 0.1020 Acc:0.8415\n",
      "Epoch 25 Batch 400 Loss 0.0820 Acc:0.8557\n",
      "Epoch 25 Batch 500 Loss 0.0808 Acc:0.8630\n",
      "Epoch 25 Batch 600 Loss 0.0820 Acc:0.8713\n",
      "Epoch 25 Batch 700 Loss 0.0767 Acc:0.8895\n",
      "Epoch 25 Batch 800 Loss 0.0940 Acc:0.8417\n",
      "Epoch 25 Batch 900 Loss 0.0894 Acc:0.8544\n",
      "Epoch 25 Batch 1000 Loss 0.0854 Acc:0.8560\n",
      "Epoch 25 Batch 1100 Loss 0.1115 Acc:0.8132\n",
      "Epoch 25 Batch 1200 Loss 0.1035 Acc:0.8211\n",
      "Epoch 25 Batch 1300 Loss 0.1034 Acc:0.8324\n",
      "Epoch 25 Batch 1400 Loss 0.0984 Acc:0.8575\n",
      "Epoch 25 Batch 1500 Loss 0.0875 Acc:0.8329\n",
      "Time taken for 1 epoch 66.4619 sec\n",
      "\n"
     ]
    }
   ],
   "source": [
    "# Setting Adam as optimizer with the parameter [clipnorm] set to 5 to enable L2 regularization of gradients \n",
    "# when their average exceeds this value - limits potential gradient explosion phenomena and \n",
    "# restrains radical weight changes, allowing for better generalization.\n",
    "optimizer = tf.keras.optimizers.Adam(clipnorm=5.0)\n",
    "\n",
    "# Creation of an initial checkpoint for the newly created model\n",
    "checkpoint_dir = './seq2seq'\n",
    "checkpoint_prefix = os.path.join(checkpoint_dir, \"ckpt\")\n",
    "checkpoint = tf.train.Checkpoint(optimizer=optimizer,\n",
    "                                 encoder=encoder,\n",
    "                                 decoder=decoder)\n",
    "\n",
    "# Start training with previously set hyperparameters\n",
    "losses, accuracies = main_train(encoder, decoder, dataset, EPOCHS, BATCH_SIZE, optimizer, checkpoint, checkpoint_prefix)"
   ]
  },
  {
   "cell_type": "markdown",
   "metadata": {},
   "source": [
    "### Evaluation of training\n",
    "With the output log and training results, we can visualize this information regarding the metrics of interest."
   ]
  },
  {
   "cell_type": "code",
   "execution_count": 18,
   "metadata": {},
   "outputs": [
    {
     "data": {
      "image/png": "[encoded data removed]",
      "text/plain": [
       "<Figure size 1080x360 with 2 Axes>"
      ]
     },
     "metadata": {
      "needs_background": "light"
     },
     "output_type": "display_data"
    }
   ],
   "source": [
    "fig, (ax1, ax2) = plt.subplots(1, 2, figsize=(15,5))\n",
    "\n",
    "ax1.plot(losses, label='loss')\n",
    "ax1.set_title('Training Loss')\n",
    "ax1.legend()\n",
    "\n",
    "ax2.plot(accuracies, label='acc')\n",
    "ax2.set_title('Training Accuracy')\n",
    "ax2.legend()\n",
    "\n",
    "plt.show()"
   ]
  },
  {
   "cell_type": "markdown",
   "metadata": {},
   "source": [
    "### Testing the model\n",
    "The following cell allows loading the last checkpoint of the previously saved training."
   ]
  },
  {
   "cell_type": "code",
   "execution_count": 19,
   "metadata": {},
   "outputs": [
    {
     "data": {
      "text/plain": [
       "<tensorflow.python.training.tracking.util.CheckpointLoadStatus at 0x17bc9db6190>"
      ]
     },
     "execution_count": 19,
     "metadata": {},
     "output_type": "execute_result"
    }
   ],
   "source": [
    "# Loading the latest available checkpoint\n",
    "checkpoint_dir = './seq2seq'\n",
    "checkpoint_prefix = os.path.join(checkpoint_dir, \"ckpt\")\n",
    "checkpoint.restore(tf.train.latest_checkpoint(checkpoint_dir))"
   ]
  },
  {
   "cell_type": "markdown",
   "metadata": {},
   "source": [
    "To make a prediction, you must provide a sequence of length 1 containing the sos (start-of-sentence) token. Then, it is possible to call the encoder and decoder repeatedly until you receive the eos (end-of-sentence) token or reach the maximum length limit."
   ]
  },
  {
   "cell_type": "code",
   "execution_count": 20,
   "metadata": {},
   "outputs": [],
   "source": [
    "def predict(input_text, encoder, input_max_len, tokenizer_inputs, word2idx_outputs, idx2word_outputs):\n",
    "    if input_text is None:\n",
    "        input_text = input_data[np.random.choice(len(input_data))]\n",
    "        print(input_text)\n",
    "    # Tokenization of the input sequence\n",
    "    input_seq = tokenizer_inputs.texts_to_sequences([input_text])\n",
    "    # Padding of the input sequence\n",
    "    input_seq = pad_sequences(input_seq, maxlen=input_max_len, padding='post')\n",
    "    print(input_seq)\n",
    "\n",
    "    # Initialization of encoder states\n",
    "    en_initial_states = encoder.init_states(1)\n",
    "    en_outputs = encoder(tf.constant(input_seq), en_initial_states)\n",
    "    # Creation of input to the decoder, using the <start-of-sentence> token\n",
    "    de_input = tf.constant([[word2idx_outputs['<sos>']]])\n",
    "    # Setting the decoder states to the output states from the encoder\n",
    "    # Set the decoder states to the encoder vector or encoder hidden state\n",
    "    de_state_h, de_state_c = en_outputs[1:]\n",
    "    \n",
    "    out_words = []\n",
    "    while True:\n",
    "        # Decoding and retrieval of output probabilities\n",
    "        de_output, de_state_h, de_state_c = decoder(\n",
    "            de_input, (de_state_h, de_state_c))\n",
    "        # Selection of the most probable word\n",
    "        de_input = tf.argmax(de_output, -1)\n",
    "        # Insertion of the word into the output sequence\n",
    "        out_words.append(idx2word_outputs[de_input.numpy()[0][0]])\n",
    "        # Termination of the loop when the <end-of-sentence> token is encountered\n",
    "        # or when the maximum expected sequence length is reached\n",
    "        if out_words[-1] == '<eos>' or len(out_words) >= 20:\n",
    "            break\n",
    "\n",
    "    print(' '.join(out_words))"
   ]
  },
  {
   "cell_type": "markdown",
   "metadata": {},
   "source": [
    "Testing the model using some examples taken from the training dataset"
   ]
  },
  {
   "cell_type": "code",
   "execution_count": 23,
   "metadata": {},
   "outputs": [
    {
     "name": "stdout",
     "output_type": "stream",
     "text": [
      "['do it . ', 'tom came . ', 'they re mine . ', 'you re old . ', 'tom was selected . ']\n",
      "[[16  6  1  0  0  0  0  0  0]]\n",
      "fallo . <eos>\n",
      "[[  4 156   1   0   0   0   0   0   0]]\n",
      "tom e venuto . <eos>\n",
      "[[ 23  10 225   1   0   0   0   0   0]]\n",
      "sono mie . <eos>\n",
      "[[  3  10 152   1   0   0   0   0   0]]\n",
      "voi siete vecchi . <eos>\n",
      "[[   4   20 1337    1    0    0    0    0    0]]\n",
      "tom e stato selezionato . <eos>\n"
     ]
    }
   ],
   "source": [
    "test_sequences = [input_data[42], input_data[1042], input_data[10042], input_data[4242], input_data[42042]]\n",
    "\n",
    "for test_sequence in test_sequences:\n",
    "    print(test_sequence)\n",
    "    predict(test_sequence, encoder, input_max_len, tokenizer_inputs, word2idx_outputs, idx2word_outputs)\n",
    "    print('  -----------------  ')"
   ]
  },
  {
   "cell_type": "code",
   "execution_count": null,
   "metadata": {},
   "outputs": [],
   "source": []
  }
 ],
 "metadata": {
  "kernelspec": {
   "display_name": "Python 3",
   "language": "python",
   "name": "python3"
  },
  "language_info": {
   "codemirror_mode": {
    "name": "ipython",
    "version": 3
   },
   "file_extension": ".py",
   "mimetype": "text/x-python",
   "name": "python",
   "nbconvert_exporter": "python",
   "pygments_lexer": "ipython3",
   "version": "3.10.0"
  }
 },
 "nbformat": 4,
 "nbformat_minor": 1
}
